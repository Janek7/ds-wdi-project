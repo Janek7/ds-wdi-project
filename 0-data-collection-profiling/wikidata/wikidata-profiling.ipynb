{
 "cells": [
  {
   "cell_type": "code",
   "execution_count": 1,
   "metadata": {},
   "outputs": [
    {
     "name": "stdout",
     "output_type": "stream",
     "text": [
      "<class 'pandas.core.frame.DataFrame'>\n",
      "RangeIndex: 1 entries, 0 to 0\n",
      "Data columns (total 1 columns):\n",
      "count    1 non-null object\n",
      "dtypes: object(1)\n",
      "memory usage: 136.0+ bytes\n"
     ]
    }
   ],
   "source": [
    "import requests\n",
    "import pandas as pd\n",
    "from datetime import datetime\n",
    "\n",
    "url = \"https://query.wikidata.org/sparql\"\n",
    "\n",
    "query_grouped = \"\"\"\n",
    "select (?videogameLabel as ?title) (group_concat(DISTINCT ?genreLabel;SEPARATOR=\";\") as ?genres) (group_concat(DISTINCT ?platformLabel;SEPARATOR=\";\") as ?platforms) #(sample(?publisherLabel) as ?publisher) \n",
    "where {\n",
    "  SERVICE wikibase:label { bd:serviceParam wikibase:language \"[AUTO_LANGUAGE],en\". }\n",
    "  ?videogame wdt:P31 wd:Q7889.\n",
    "  OPTIONAL { ?videogame wdt:P136 ?genreVar. }\n",
    "  OPTIONAL { ?videogame wdt:P400 ?platformVar. }\n",
    "  #OPTIONAL { ?videogame wdt:P123 ?publisherVar. }\n",
    "  #OPTIONAL { ?videogame wdt:P577 ?publication_dateVar. }\n",
    "  #OPTIONAL { ?videogame wdt:P2284 ?price. }\n",
    "  #OPTIONAL { ?videogame wdt:P444 ?rating. }\n",
    "  #OPTIONAL { ?videogame wdt:P404 ?game_modeVar. }\n",
    "  #OPTIONAL { ?videogame wdt:P914 ?USK_rating. }\n",
    "  #OPTIONAL { ?videogame wdt:P908 ?PEGI_rating. }\n",
    "  \n",
    "  SERVICE wikibase:label { \n",
    "    bd:serviceParam wikibase:language \"en\". \n",
    "    ?videogame rdfs:label ?videogameLabel.\n",
    "    ?genreVar rdfs:label ?genreLabel.\n",
    "    ?platformVar rdfs:label ?platformLabel.\n",
    "    #?publisherVar rdfs:label ?publisherLabel.\n",
    "    #?game_modeVar rdfs:label ?game_modeLabel.\n",
    "  }\n",
    "}\n",
    "group by ?videogame ?videogameLabel\n",
    "\n",
    "LIMIT 1000\n",
    "\"\"\"\n",
    "\n",
    "query_count = \"\"\"\n",
    "SELECT (count(distinct ?videogame) as ?count)\n",
    "WHERE {\n",
    "  SERVICE wikibase:label { bd:serviceParam wikibase:language \"[AUTO_LANGUAGE],en\". }\n",
    "  ?videogame wdt:P31 wd:Q7889.\n",
    "}\n",
    "\"\"\"\n",
    "\n",
    "result = requests.get(url, params={'format': 'json', 'query': query_count})\n",
    "data = result.json()\n",
    "df = pd.DataFrame.from_dict(data['results']['bindings'])\n",
    "df.head(5)\n",
    "df.info()\n",
    "\n",
    "# df.to_excel('data/output_' + datetime.now().strftime(\"%d%m%Y-%H%M%S\") + '.xlsx', engine='openpyxl')\n"
   ]
  },
  {
   "cell_type": "code",
   "execution_count": null,
   "metadata": {},
   "outputs": [],
   "source": []
  }
 ],
 "metadata": {
  "kernelspec": {
   "display_name": "Python 3",
   "language": "python",
   "name": "python3"
  },
  "language_info": {
   "codemirror_mode": {
    "name": "ipython",
    "version": 3
   },
   "file_extension": ".py",
   "mimetype": "text/x-python",
   "name": "python",
   "nbconvert_exporter": "python",
   "pygments_lexer": "ipython3",
   "version": "3.7.4"
  }
 },
 "nbformat": 4,
 "nbformat_minor": 2
}
