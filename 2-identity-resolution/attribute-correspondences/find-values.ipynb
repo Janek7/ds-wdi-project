{
 "cells": [
  {
   "cell_type": "markdown",
   "metadata": {},
   "source": [
    "# Find Attribute Values"
   ]
  },
  {
   "cell_type": "code",
   "execution_count": 20,
   "metadata": {},
   "outputs": [],
   "source": [
    "import pandas as pd\n",
    "\n",
    "# read data\n",
    "#wikidata = pd.read_csv('input/wikidata.csv')\n",
    "#steam = pd.read_csv('input/steam.csv')\n",
    "#sales = pd.read_csv('input/vg_sales.csv')\n",
    "\n",
    "datasets = {\n",
    "    'wikidata': pd.read_csv('input/wikidata.csv'),\n",
    "    'steam': pd.read_csv('input/steam.csv'),\n",
    "    'sales': pd.read_csv('input/vg_sales.csv')\n",
    "}\n",
    "attributes = ['platform', 'publisher', 'developer']"
   ]
  },
  {
   "cell_type": "code",
   "execution_count": 32,
   "metadata": {},
   "outputs": [],
   "source": [
    "for dataset_name, dataframe in datasets.items():\n",
    "    for attribute in attributes:\n",
    "        # group and count\n",
    "        attribute_grouped = dataframe.groupby(attribute).count().sort_values(['id'], ascending=False)\n",
    "        attribute_grouped = attribute_grouped.rename(columns={'id': 'count'})\n",
    "        attribute_grouped = attribute_grouped['count']\n",
    "        attribute_grouped.to_csv('attribute-counts/{}_{}.csv'.format(dataset_name, attribute))"
   ]
  }
 ],
 "metadata": {
  "kernelspec": {
   "display_name": "Python 3",
   "language": "python",
   "name": "python3"
  },
  "language_info": {
   "codemirror_mode": {
    "name": "ipython",
    "version": 3
   },
   "file_extension": ".py",
   "mimetype": "text/x-python",
   "name": "python",
   "nbconvert_exporter": "python",
   "pygments_lexer": "ipython3",
   "version": "3.8.5"
  }
 },
 "nbformat": 4,
 "nbformat_minor": 4
}
