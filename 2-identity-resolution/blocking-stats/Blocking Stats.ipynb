{
 "cells": [
  {
   "cell_type": "markdown",
   "metadata": {},
   "source": [
    "# Blocking Statistics"
   ]
  },
  {
   "cell_type": "code",
   "execution_count": 6,
   "metadata": {},
   "outputs": [],
   "source": [
    "import pandas as pd\n",
    "import matplotlib.pyplot as plt"
   ]
  },
  {
   "cell_type": "markdown",
   "metadata": {},
   "source": [
    "## Neighborhood Blocking\n",
    "### Load Data"
   ]
  },
  {
   "cell_type": "code",
   "execution_count": 47,
   "metadata": {},
   "outputs": [
    {
     "data": {
      "text/html": [
       "<div>\n",
       "<style scoped>\n",
       "    .dataframe tbody tr th:only-of-type {\n",
       "        vertical-align: middle;\n",
       "    }\n",
       "\n",
       "    .dataframe tbody tr th {\n",
       "        vertical-align: top;\n",
       "    }\n",
       "\n",
       "    .dataframe thead th {\n",
       "        text-align: right;\n",
       "    }\n",
       "</style>\n",
       "<table border=\"1\" class=\"dataframe\">\n",
       "  <thead>\n",
       "    <tr style=\"text-align: right;\">\n",
       "      <th></th>\n",
       "      <th>neighbor_hood_size</th>\n",
       "      <th>reduction_ratio</th>\n",
       "      <th>execution_seconds</th>\n",
       "      <th>f1</th>\n",
       "    </tr>\n",
       "  </thead>\n",
       "  <tbody>\n",
       "    <tr>\n",
       "      <th>0</th>\n",
       "      <td>2</td>\n",
       "      <td>0.999947</td>\n",
       "      <td>4</td>\n",
       "      <td>0.622568</td>\n",
       "    </tr>\n",
       "    <tr>\n",
       "      <th>1</th>\n",
       "      <td>4</td>\n",
       "      <td>0.999842</td>\n",
       "      <td>3</td>\n",
       "      <td>0.766551</td>\n",
       "    </tr>\n",
       "    <tr>\n",
       "      <th>2</th>\n",
       "      <td>6</td>\n",
       "      <td>0.999736</td>\n",
       "      <td>3</td>\n",
       "      <td>0.817276</td>\n",
       "    </tr>\n",
       "    <tr>\n",
       "      <th>3</th>\n",
       "      <td>8</td>\n",
       "      <td>0.999630</td>\n",
       "      <td>5</td>\n",
       "      <td>0.869841</td>\n",
       "    </tr>\n",
       "    <tr>\n",
       "      <th>4</th>\n",
       "      <td>10</td>\n",
       "      <td>0.999525</td>\n",
       "      <td>6</td>\n",
       "      <td>0.876972</td>\n",
       "    </tr>\n",
       "    <tr>\n",
       "      <th>5</th>\n",
       "      <td>12</td>\n",
       "      <td>0.999419</td>\n",
       "      <td>7</td>\n",
       "      <td>0.884013</td>\n",
       "    </tr>\n",
       "    <tr>\n",
       "      <th>6</th>\n",
       "      <td>14</td>\n",
       "      <td>0.999314</td>\n",
       "      <td>8</td>\n",
       "      <td>0.894410</td>\n",
       "    </tr>\n",
       "    <tr>\n",
       "      <th>7</th>\n",
       "      <td>16</td>\n",
       "      <td>0.999208</td>\n",
       "      <td>9</td>\n",
       "      <td>0.901235</td>\n",
       "    </tr>\n",
       "    <tr>\n",
       "      <th>8</th>\n",
       "      <td>18</td>\n",
       "      <td>0.999103</td>\n",
       "      <td>10</td>\n",
       "      <td>0.898462</td>\n",
       "    </tr>\n",
       "    <tr>\n",
       "      <th>9</th>\n",
       "      <td>20</td>\n",
       "      <td>0.998997</td>\n",
       "      <td>11</td>\n",
       "      <td>0.901840</td>\n",
       "    </tr>\n",
       "  </tbody>\n",
       "</table>\n",
       "</div>"
      ],
      "text/plain": [
       "   neighbor_hood_size  reduction_ratio  execution_seconds        f1\n",
       "0                   2         0.999947                  4  0.622568\n",
       "1                   4         0.999842                  3  0.766551\n",
       "2                   6         0.999736                  3  0.817276\n",
       "3                   8         0.999630                  5  0.869841\n",
       "4                  10         0.999525                  6  0.876972\n",
       "5                  12         0.999419                  7  0.884013\n",
       "6                  14         0.999314                  8  0.894410\n",
       "7                  16         0.999208                  9  0.901235\n",
       "8                  18         0.999103                 10  0.898462\n",
       "9                  20         0.998997                 11  0.901840"
      ]
     },
     "metadata": {},
     "output_type": "display_data"
    }
   ],
   "source": [
    "neighborhood_stats = pd.read_csv('neighborhood_wikidata_sales.csv')\n",
    "display(neighborhood_stats.head(10))"
   ]
  },
  {
   "cell_type": "code",
   "execution_count": 52,
   "metadata": {},
   "outputs": [
    {
     "data": {
      "image/png": "[encoded data removed]",
      "text/plain": [
       "<Figure size 432x288 with 2 Axes>"
      ]
     },
     "metadata": {
      "needs_background": "light"
     },
     "output_type": "display_data"
    }
   ],
   "source": [
    "fig, axis1 = plt.subplots()\n",
    "axis2 = axis1.twinx()\n",
    "# axis1.set_title('test')\n",
    "\n",
    "color = 'tab:orange'\n",
    "axis1.set_xlabel('Window size')\n",
    "axis1.set_ylabel('F1 score')\n",
    "axis1.set_xticks(range(0, 150, 10))\n",
    "axis1.plot('neighbor_hood_size', 'f1', data=neighborhood_stats, marker='o', color=color)\n",
    "\n",
    "color = 'tab:blue'\n",
    "axis2.set_ylabel('Execution time')\n",
    "axis2.plot('neighbor_hood_size', 'execution_seconds', data=neighborhood_stats, color=color)\n",
    "\n",
    "fig.legend(['F1 score', 'Execution time'], loc='center right')\n",
    "fig.tight_layout()\n",
    "fig.savefig('neighborhood_blocking.png')\n",
    "plt.show()"
   ]
  }
 ],
 "metadata": {
  "kernelspec": {
   "display_name": "Python 3",
   "language": "python",
   "name": "python3"
  },
  "language_info": {
   "codemirror_mode": {
    "name": "ipython",
    "version": 3
   },
   "file_extension": ".py",
   "mimetype": "text/x-python",
   "name": "python",
   "nbconvert_exporter": "python",
   "pygments_lexer": "ipython3",
   "version": "3.8.5"
  }
 },
 "nbformat": 4,
 "nbformat_minor": 4
}
